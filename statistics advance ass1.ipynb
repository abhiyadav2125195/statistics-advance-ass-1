{
 "cells": [
  {
   "cell_type": "markdown",
   "id": "66caeb41-b69e-4901-8da3-17c36032fcd5",
   "metadata": {},
   "source": [
    "# Q1. What is the Probability density function?"
   ]
  },
  {
   "cell_type": "markdown",
   "id": "258cb16c-204c-4392-bc7c-855cecf26420",
   "metadata": {},
   "source": [
    "The Probability Density Function (PDF) is a fundamental concept in probability theory and statistics. It is used to describe the likelihood of a continuous random variable taking on a specific value within a certain interval. In other words, the PDF provides a way to quantify the relative likelihood of different outcomes for a continuous random variable."
   ]
  },
  {
   "cell_type": "markdown",
   "id": "491e35cc-8c4e-45ef-83b9-15a812d8740a",
   "metadata": {},
   "source": [
    "# Q2. What are the types of Probability distribution?"
   ]
  },
  {
   "cell_type": "markdown",
   "id": "57923acb-fded-45c8-bdad-754e851ada56",
   "metadata": {},
   "source": [
    "Discrete Probability Distributions:\n",
    "\n",
    "Bernoulli Distribution: Models a binary outcome (success/failure) with a single parameter p, representing the probability of success.\n",
    "Binomial Distribution: Represents the number of successes in a fixed number of independent Bernoulli trials.\n",
    "Poisson Distribution: Models the number of events occurring in a fixed interval of time or space, given an average rate of occurrence.\n",
    "Continuous Probability Distributions:\n",
    "\n",
    "Normal Distribution (Gaussian Distribution): Characterized by its bell-shaped curve and is widely used due to the central limit theorem.\n",
    "Uniform Distribution: All values within a certain range have equal likelihood."
   ]
  },
  {
   "cell_type": "markdown",
   "id": "128fbc53-2df9-4713-82b5-83d39485285e",
   "metadata": {},
   "source": [
    "# Q3. Write a Python function to calculate the probability density function of a normal distribution with given mean and standard deviation at a given point."
   ]
  },
  {
   "cell_type": "code",
   "execution_count": 5,
   "id": "7beafbf2-6b15-4fa8-ad7c-3e99ad5e11f3",
   "metadata": {},
   "outputs": [
    {
     "data": {
      "text/plain": [
       "161.0"
      ]
     },
     "execution_count": 5,
     "metadata": {},
     "output_type": "execute_result"
    }
   ],
   "source": [
    "import numpy as np\n",
    "height = [166,156,187,191,158,141,132,173,145]\n",
    "np.mean(height)\n"
   ]
  },
  {
   "cell_type": "code",
   "execution_count": 6,
   "id": "ca352412-a893-4334-a1f9-e0dd67055054",
   "metadata": {},
   "outputs": [
    {
     "data": {
      "text/plain": [
       "19.078784028338912"
      ]
     },
     "execution_count": 6,
     "metadata": {},
     "output_type": "execute_result"
    }
   ],
   "source": [
    "np.std(height)"
   ]
  },
  {
   "cell_type": "markdown",
   "id": "90eacdbe-f751-4941-8a0c-4621dfe5f1d6",
   "metadata": {},
   "source": [
    "# Q4. What are the properties of Binomial distribution? Give two examples of events where binomial distribution can be applied."
   ]
  },
  {
   "cell_type": "markdown",
   "id": "06ef757a-145b-4ff6-8a21-21f321fa4219",
   "metadata": {},
   "source": [
    "The Binomial distribution is a discrete probability distribution that describes the number of successes in a fixed number of independent Bernoulli trials, where each trial has only two possible outcomes: success or failure. The distribution is characterized by two parameters: the number of trials (n) and the probability of success in each trial (p).\n",
    "\n",
    "Properties of the Binomial distribution:\n",
    "\n",
    "Number of Trials (n): The distribution is defined for a fixed number of trials, denoted as 'n'. Each trial is independent of the others.\n",
    "\n",
    "Probability of Success (p): The probability of success in each trial is denoted as 'p', and the probability of failure is 'q = 1 - p'.\n",
    "\n",
    "Discreteness: The Binomial distribution is discrete, meaning it deals with whole numbers (0, 1, 2, ...).\n",
    "\n",
    "Individual Outcomes: Each outcome in a Binomial distribution is either a success or a failure\n",
    "\n",
    "\n",
    "Examples of events where the Binomial distribution can be applied:\n",
    "\n",
    "Coin Flips: Consider flipping a fair coin multiple times. Each flip can result in a \"heads\" (success) or \"tails\" (failure). The Binomial distribution can be used to model the number of heads obtained in a fixed number of coin flips.\n",
    "\n",
    "Quality Control: In a manufacturing process, products are tested for defects. Each product may either pass (success) or fail (failure) the quality control test. The Binomial distribution can be used to model the number of defective items in a batch of products, given the probability of a defective item and the total number of items.\n",
    "\n",
    "Survey Responses: Suppose you're conducting a survey with a binary question (yes/no). The Binomial distribution can be used to model the number of \"yes\" responses in a fixed number of survey participants, given the probability of a \"yes\" response.\n",
    "\n",
    "Medical Trials: In a medical trial, patients are often treated (success) or not treated (failure) with a new drug. The Binomial distribution can model the number of patients who respond positively to the treatment in a fixed number of participants."
   ]
  },
  {
   "cell_type": "markdown",
   "id": "3a7a585d-9c31-4b41-aec5-1bf4b572ba2d",
   "metadata": {},
   "source": [
    "# Q5. Generate a random sample of size 1000 from a binomial distribution with probability of success 0.4 and plot a histogram of the results using matplotlib."
   ]
  },
  {
   "cell_type": "code",
   "execution_count": 17,
   "id": "3abbd499-330b-4e85-a888-bf63fad428a0",
   "metadata": {},
   "outputs": [
    {
     "data": {
      "text/plain": [
       "(array([0., 0., 0., 0., 0., 1., 0., 0., 0., 0.]),\n",
       " array([400.5, 400.6, 400.7, 400.8, 400.9, 401. , 401.1, 401.2, 401.3,\n",
       "        401.4, 401.5]),\n",
       " <BarContainer object of 10 artists>)"
      ]
     },
     "execution_count": 17,
     "metadata": {},
     "output_type": "execute_result"
    },
    {
     "data": {
      "image/png": "[encoded data removed]",
      "text/plain": [
       "<Figure size 640x480 with 1 Axes>"
      ]
     },
     "metadata": {},
     "output_type": "display_data"
    }
   ],
   "source": [
    "import numpy as np\n",
    "import matplotlib.pyplot as plt\n",
    "n = 1000 \n",
    "p = 0.4\n",
    "sample =  np.random.binomial(n = 1000 , p = 0.4 )\n",
    "plt.hist(sample)"
   ]
  },
  {
   "cell_type": "markdown",
   "id": "9eb941bc-6778-4b03-b3a1-a5f27e223e23",
   "metadata": {},
   "source": [
    "# Q6. Write a Python function to calculate the cumulative distribution function of a Poisson distribution with given mean at a given point."
   ]
  },
  {
   "cell_type": "code",
   "execution_count": null,
   "id": "f325468c-c3ce-4ecd-9d5a-945051d72a85",
   "metadata": {},
   "outputs": [],
   "source": []
  },
  {
   "cell_type": "markdown",
   "id": "e9de0c19-2ac1-4983-86d1-c61a0149202b",
   "metadata": {},
   "source": [
    "# Q7. How Binomial distribution different from Poisson distribution?"
   ]
  },
  {
   "cell_type": "markdown",
   "id": "1fe2c65f-2f9f-4d97-8545-47886fc596ae",
   "metadata": {},
   "source": [
    "\n",
    "1. Nature of Events:\n",
    "\n",
    "Binomial Distribution: The events are independent and occur in a fixed number of trials. Each trial has two possible outcomes: success or failure.\n",
    "Poisson Distribution: The events are rare and occur randomly in continuous time or space. There is no fixed number of trials; events can occur any time.\n",
    "\n",
    "2. Parameters:\n",
    "\n",
    "Binomial Distribution: Requires two parameters: the number of trials (n) and the probability of success (p) in each trial.\n",
    "Poisson Distribution: Requires one parameter: the average rate of events (λ) in the given interval.\n",
    "\n",
    "3. Number of Possible Outcomes:\n",
    "\n",
    "Binomial Distribution: The number of possible outcomes is limited and discrete (0, 1, 2, ..., n).\n",
    "Poisson Distribution: The number of possible outcomes is theoretically infinite (0, 1, 2, ...).\n",
    "\n",
    "4. Probability Mass Function (PMF) and Probability Density Function (PDF):\n",
    "\n",
    "Binomial Distribution: The PMF gives the probability of observing a specific number of successes in 'n' trials.\n",
    "Poisson Distribution: The PMF gives the probability of observing a specific number of events in a continuous interval."
   ]
  },
  {
   "cell_type": "markdown",
   "id": "e1ff4796-c5c3-49d5-82dc-30417dd5e40f",
   "metadata": {},
   "source": [
    "# Q8. Generate a random sample of size 1000 from a Poisson distribution with mean 5 and calculate the sample mean and variance."
   ]
  },
  {
   "cell_type": "code",
   "execution_count": 9,
   "id": "d4a29aa0-3b64-43c0-99d8-1246fe3c32ef",
   "metadata": {},
   "outputs": [
    {
     "data": {
      "text/plain": [
       "4.987"
      ]
     },
     "execution_count": 9,
     "metadata": {},
     "output_type": "execute_result"
    }
   ],
   "source": [
    "import numpy as np\n",
    "mean  =5\n",
    "sample = np.random.poisson(mean , size = 1000)\n",
    "np.mean(sample)"
   ]
  },
  {
   "cell_type": "code",
   "execution_count": 10,
   "id": "37f98ec2-3074-4633-b7e3-50290deb52e1",
   "metadata": {},
   "outputs": [
    {
     "data": {
      "text/plain": [
       "4.884831"
      ]
     },
     "execution_count": 10,
     "metadata": {},
     "output_type": "execute_result"
    }
   ],
   "source": [
    "np.var(sample)"
   ]
  },
  {
   "cell_type": "markdown",
   "id": "e24afe48-2f1b-48c5-a8c4-6e8328e1e487",
   "metadata": {},
   "source": [
    "# Q9. How mean and variance are related in Binomial distribution and Poisson distribution?"
   ]
  },
  {
   "cell_type": "markdown",
   "id": "12042c4d-48ae-4740-b199-9809b6b64e0c",
   "metadata": {},
   "source": [
    "Binomial Distribution:\n",
    "For a Binomial distribution with parameters 'n' (number of trials) and 'p' (probability of success in each trial):\n",
    "\n",
    "Mean (μ): The mean of a Binomial distribution is given by μ = n * p.\n",
    "\n",
    "Variance (σ^2): The variance of a Binomial distribution is given by σ^2 = n * p * q, where q = 1 - p.\n",
    "\n",
    "The relationship between mean and variance in the Binomial distribution indicates that as the probability of success 'p' gets closer to 0 or 1 (meaning the outcomes are highly skewed towards one outcome), the variance decreases and the distribution becomes more tightly concentrated around the mean.\n",
    "\n",
    "Poisson Distribution:\n",
    "For a Poisson distribution with a parameter 'λ' (average rate of events):\n",
    "\n",
    "Mean (μ): The mean of a Poisson distribution is equal to the parameter, μ = λ.\n",
    "\n",
    "Variance (σ^2): The variance of a Poisson distribution is also equal to the parameter, σ^2 = λ.\n",
    "\n",
    "The relationship between mean and variance in the Poisson distribution is unique in that they are equal to each other. This reflects the nature of the distribution, where rare, random events occur at a constant average rate. The Poisson distribution becomes more symmetrical as 'λ' increases, and its shape is determined by this parameter."
   ]
  },
  {
   "cell_type": "code",
   "execution_count": null,
   "id": "9bd824d4-bf85-40ad-84f4-26ab8b4c97d9",
   "metadata": {},
   "outputs": [],
   "source": []
  }
 ],
 "metadata": {
  "kernelspec": {
   "display_name": "Python 3 (ipykernel)",
   "language": "python",
   "name": "python3"
  },
  "language_info": {
   "codemirror_mode": {
    "name": "ipython",
    "version": 3
   },
   "file_extension": ".py",
   "mimetype": "text/x-python",
   "name": "python",
   "nbconvert_exporter": "python",
   "pygments_lexer": "ipython3",
   "version": "3.10.8"
  }
 },
 "nbformat": 4,
 "nbformat_minor": 5
}
